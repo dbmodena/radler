{
 "cells": [
  {
   "cell_type": "code",
   "execution_count": 1,
   "metadata": {},
   "outputs": [],
   "source": [
    "import networkx as nx\n",
    "import polars as pl"
   ]
  },
  {
   "cell_type": "code",
   "execution_count": 2,
   "metadata": {},
   "outputs": [
    {
     "name": "stdout",
     "output_type": "stream",
     "text": [
      "10000000\n"
     ]
    },
    {
     "data": {
      "text/html": [
       "<div><style>\n",
       ".dataframe > thead > tr > th,\n",
       ".dataframe > tbody > tr > td {\n",
       "  text-align: right;\n",
       "}\n",
       "</style>\n",
       "<small>shape: (10, 5)</small><table border=\"1\" class=\"dataframe\"><thead><tr><th>_id</th><th>given_name</th><th>surname</th><th>suburb</th><th>postcode</th></tr><tr><td>str</td><td>str</td><td>str</td><td>str</td><td>str</td></tr></thead><tbody><tr><td>&quot;0#0&quot;</td><td>&quot;annie&quot;</td><td>&quot;johnson&quot;</td><td>&quot;warrenron&quot;</td><td>&quot;2758g&quot;</td></tr><tr><td>&quot;0#1&quot;</td><td>&quot;erib&quot;</td><td>&quot;pugh&quot;</td><td>&quot;asheboro&quot;</td><td>&quot;27202&quot;</td></tr><tr><td>&quot;0#2&quot;</td><td>&quot;lauren&quot;</td><td>&quot;toledo&quot;</td><td>&quot;chapeo hill&quot;</td><td>&quot;2751q&quot;</td></tr><tr><td>&quot;0#3&quot;</td><td>&quot;keorgetta&quot;</td><td>&quot;atkin5on&quot;</td><td>&quot;goldsboro&quot;</td><td>&quot;27530&quot;</td></tr><tr><td>&quot;0#4&quot;</td><td>&quot;lvnn&quot;</td><td>&quot;kitchenz&quot;</td><td>&quot;greensboro&quot;</td><td>&quot;27408&quot;</td></tr><tr><td>&quot;0#5&quot;</td><td>&quot;jacqveline&quot;</td><td>&quot;lacewell&quot;</td><td>&quot;riegelwood&quot;</td><td>&quot;284s6&quot;</td></tr><tr><td>&quot;0#6&quot;</td><td>&quot;mayr&quot;</td><td>&quot;mmartin&quot;</td><td>&quot;charlotte&quot;</td><td>&quot;28205&quot;</td></tr><tr><td>&quot;0#7&quot;</td><td>&quot;geracld&quot;</td><td>&quot;clofntz&quot;</td><td>&quot;midland&quot;</td><td>&quot;28107&quot;</td></tr><tr><td>&quot;0#8&quot;</td><td>&quot;marie&quot;</td><td>&quot;roact&quot;</td><td>&quot;reisdville&quot;</td><td>&quot;27320&quot;</td></tr><tr><td>&quot;0#9&quot;</td><td>&quot;jennif4r&quot;</td><td>&quot;hll&quot;</td><td>&quot;wilson&quot;</td><td>&quot;27896&quot;</td></tr></tbody></table></div>"
      ],
      "text/plain": [
       "shape: (10, 5)\n",
       "┌─────┬────────────┬──────────┬─────────────┬──────────┐\n",
       "│ _id ┆ given_name ┆ surname  ┆ suburb      ┆ postcode │\n",
       "│ --- ┆ ---        ┆ ---      ┆ ---         ┆ ---      │\n",
       "│ str ┆ str        ┆ str      ┆ str         ┆ str      │\n",
       "╞═════╪════════════╪══════════╪═════════════╪══════════╡\n",
       "│ 0#0 ┆ annie      ┆ johnson  ┆ warrenron   ┆ 2758g    │\n",
       "│ 0#1 ┆ erib       ┆ pugh     ┆ asheboro    ┆ 27202    │\n",
       "│ 0#2 ┆ lauren     ┆ toledo   ┆ chapeo hill ┆ 2751q    │\n",
       "│ 0#3 ┆ keorgetta  ┆ atkin5on ┆ goldsboro   ┆ 27530    │\n",
       "│ …   ┆ …          ┆ …        ┆ …           ┆ …        │\n",
       "│ 0#6 ┆ mayr       ┆ mmartin  ┆ charlotte   ┆ 28205    │\n",
       "│ 0#7 ┆ geracld    ┆ clofntz  ┆ midland     ┆ 28107    │\n",
       "│ 0#8 ┆ marie      ┆ roact    ┆ reisdville  ┆ 27320    │\n",
       "│ 0#9 ┆ jennif4r   ┆ hll      ┆ wilson      ┆ 27896    │\n",
       "└─────┴────────────┴──────────┴─────────────┴──────────┘"
      ]
     },
     "execution_count": 2,
     "metadata": {},
     "output_type": "execute_result"
    }
   ],
   "source": [
    "ds = pl.read_csv(\"dataset_original.csv\")\n",
    "print(len(ds))\n",
    "ds.head(10)"
   ]
  },
  {
   "cell_type": "code",
   "execution_count": 3,
   "metadata": {},
   "outputs": [],
   "source": [
    "value_counter = dict()\n",
    "for a in ds.columns[1:]:\n",
    "    value_counter[a] = dict(zip(*ds[a].value_counts().to_dict(as_series=False).values()))"
   ]
  },
  {
   "cell_type": "code",
   "execution_count": 4,
   "metadata": {},
   "outputs": [
    {
     "name": "stdout",
     "output_type": "stream",
     "text": [
      "10000000\n"
     ]
    },
    {
     "data": {
      "text/plain": [
       "{'_id': '0#0',\n",
       " 'given_name': 'annie',\n",
       " 'surname': 'johnson',\n",
       " 'suburb': 'warrenron',\n",
       " 'postcode': '2758g'}"
      ]
     },
     "execution_count": 4,
     "metadata": {},
     "output_type": "execute_result"
    }
   ],
   "source": [
    "records = {row[\"_id\"]: row for row in ds.to_dicts()}\n",
    "print(len(records))\n",
    "records[\"0#0\"]"
   ]
  },
  {
   "cell_type": "code",
   "execution_count": 5,
   "metadata": {},
   "outputs": [
    {
     "name": "stdout",
     "output_type": "stream",
     "text": [
      "14995973\n"
     ]
    },
    {
     "data": {
      "text/html": [
       "<div><style>\n",
       ".dataframe > thead > tr > th,\n",
       ".dataframe > tbody > tr > td {\n",
       "  text-align: right;\n",
       "}\n",
       "</style>\n",
       "<small>shape: (10, 2)</small><table border=\"1\" class=\"dataframe\"><thead><tr><th>l_id</th><th>r_id</th></tr><tr><td>str</td><td>str</td></tr></thead><tbody><tr><td>&quot;9#521172&quot;</td><td>&quot;8#487137&quot;</td></tr><tr><td>&quot;3#705514&quot;</td><td>&quot;7#705213&quot;</td></tr><tr><td>&quot;5#178036&quot;</td><td>&quot;7#746495&quot;</td></tr><tr><td>&quot;1#277832&quot;</td><td>&quot;3#956949&quot;</td></tr><tr><td>&quot;3#729809&quot;</td><td>&quot;9#516050&quot;</td></tr><tr><td>&quot;9#980653&quot;</td><td>&quot;5#980831&quot;</td></tr><tr><td>&quot;9#47980&quot;</td><td>&quot;0#807115&quot;</td></tr><tr><td>&quot;8#317525&quot;</td><td>&quot;3#317886&quot;</td></tr><tr><td>&quot;8#354120&quot;</td><td>&quot;0#353989&quot;</td></tr><tr><td>&quot;7#260394&quot;</td><td>&quot;1#260362&quot;</td></tr></tbody></table></div>"
      ],
      "text/plain": [
       "shape: (10, 2)\n",
       "┌──────────┬──────────┐\n",
       "│ l_id     ┆ r_id     │\n",
       "│ ---      ┆ ---      │\n",
       "│ str      ┆ str      │\n",
       "╞══════════╪══════════╡\n",
       "│ 9#521172 ┆ 8#487137 │\n",
       "│ 3#705514 ┆ 7#705213 │\n",
       "│ 5#178036 ┆ 7#746495 │\n",
       "│ 1#277832 ┆ 3#956949 │\n",
       "│ …        ┆ …        │\n",
       "│ 9#47980  ┆ 0#807115 │\n",
       "│ 8#317525 ┆ 3#317886 │\n",
       "│ 8#354120 ┆ 0#353989 │\n",
       "│ 7#260394 ┆ 1#260362 │\n",
       "└──────────┴──────────┘"
      ]
     },
     "execution_count": 5,
     "metadata": {},
     "output_type": "execute_result"
    }
   ],
   "source": [
    "matches = pl.read_csv(\"../matches.csv\")\n",
    "match_tuples = [tuple(row) for row in matches.to_numpy()]\n",
    "print(len(matches))\n",
    "matches.head(10)"
   ]
  },
  {
   "cell_type": "code",
   "execution_count": 6,
   "metadata": {},
   "outputs": [
    {
     "name": "stdout",
     "output_type": "stream",
     "text": [
      "10000000\n",
      "14995973\n"
     ]
    }
   ],
   "source": [
    "g = nx.Graph()\n",
    "g.add_nodes_from(list(records.keys()))\n",
    "g.add_edges_from(match_tuples)\n",
    "print(len(g.nodes))\n",
    "print(len(g.edges))"
   ]
  },
  {
   "cell_type": "code",
   "execution_count": 7,
   "metadata": {},
   "outputs": [
    {
     "name": "stdout",
     "output_type": "stream",
     "text": [
      "6625848\n"
     ]
    },
    {
     "data": {
      "text/plain": [
       "{'0#0',\n",
       " '1#467487',\n",
       " '2#467081',\n",
       " '4#0',\n",
       " '5#0',\n",
       " '6#467762',\n",
       " '8#143205',\n",
       " '9#143417'}"
      ]
     },
     "execution_count": 7,
     "metadata": {},
     "output_type": "execute_result"
    }
   ],
   "source": [
    "clusters = list(nx.connected_components(g))\n",
    "print(len(clusters))\n",
    "clusters[0]"
   ]
  },
  {
   "cell_type": "code",
   "execution_count": 8,
   "metadata": {},
   "outputs": [],
   "source": [
    "import random\n",
    "\n",
    "def mode_with_tiebreak(attr, vals, counter):\n",
    "    counts = {v: counter[attr][v] for v in vals}\n",
    "    max_count = max(counts.values())\n",
    "    max_keys = [key for key, count in counts.items() if count == max_count]\n",
    "    return random.choice(max_keys)\n",
    "\n",
    "def produce_clean_record(records, cluster, counter):\n",
    "    cluster_records = [records[r_id] for r_id in cluster]\n",
    "    clean_record = dict()\n",
    "    for a in list(cluster_records[0].keys()):\n",
    "        if a == \"_id\":\n",
    "            continue\n",
    "        vals = [r[a] for r in cluster_records]\n",
    "        val = mode_with_tiebreak(a, vals, counter)\n",
    "        clean_record[a] = val\n",
    "    return clean_record"
   ]
  },
  {
   "cell_type": "code",
   "execution_count": 9,
   "metadata": {},
   "outputs": [
    {
     "name": "stdout",
     "output_type": "stream",
     "text": [
      "0\n",
      "100000\n",
      "200000\n",
      "300000\n",
      "400000\n",
      "500000\n",
      "600000\n",
      "700000\n",
      "800000\n",
      "900000\n",
      "1000000\n",
      "1100000\n",
      "1200000\n",
      "1300000\n",
      "1400000\n",
      "1500000\n",
      "1600000\n",
      "1700000\n",
      "1800000\n",
      "1900000\n",
      "2000000\n",
      "2100000\n",
      "2200000\n",
      "2300000\n",
      "2400000\n",
      "2500000\n",
      "2600000\n",
      "2700000\n",
      "2800000\n",
      "2900000\n",
      "3000000\n",
      "3100000\n",
      "3200000\n",
      "3300000\n",
      "3400000\n",
      "3500000\n",
      "3600000\n",
      "3700000\n",
      "3800000\n",
      "3900000\n",
      "4000000\n",
      "4100000\n",
      "4200000\n",
      "4300000\n",
      "4400000\n",
      "4500000\n",
      "4600000\n",
      "4700000\n",
      "4800000\n",
      "4900000\n",
      "5000000\n",
      "5100000\n",
      "5200000\n",
      "5300000\n",
      "5400000\n",
      "5500000\n",
      "5600000\n",
      "5700000\n",
      "5800000\n",
      "5900000\n",
      "6000000\n",
      "6100000\n",
      "6200000\n",
      "6300000\n",
      "6400000\n",
      "6500000\n",
      "6600000\n",
      "10000000\n",
      "{'given_name': 'annie', 'surname': 'johnson', 'suburb': 'warrenton', 'postcode': '27589', '_id': '2#467081'}\n"
     ]
    }
   ],
   "source": [
    "import copy\n",
    "\n",
    "clean_records = list()\n",
    "i = 0\n",
    "for c in clusters:\n",
    "    if i % 100000 == 0:\n",
    "        print(i)\n",
    "    i += 1\n",
    "    c = list(c)\n",
    "    clean_record = produce_clean_record(records, c, value_counter)\n",
    "    for r_id in c:\n",
    "        record = copy.deepcopy(clean_record)\n",
    "        record[\"_id\"] = r_id\n",
    "        clean_records.append(record)\n",
    "print(len(clean_records))\n",
    "print(clean_records[0])"
   ]
  },
  {
   "cell_type": "code",
   "execution_count": 10,
   "metadata": {},
   "outputs": [
    {
     "name": "stdout",
     "output_type": "stream",
     "text": [
      "10000000\n"
     ]
    },
    {
     "data": {
      "text/html": [
       "<div><style>\n",
       ".dataframe > thead > tr > th,\n",
       ".dataframe > tbody > tr > td {\n",
       "  text-align: right;\n",
       "}\n",
       "</style>\n",
       "<small>shape: (10, 5)</small><table border=\"1\" class=\"dataframe\"><thead><tr><th>_id</th><th>given_name</th><th>surname</th><th>suburb</th><th>postcode</th></tr><tr><td>str</td><td>str</td><td>str</td><td>str</td><td>str</td></tr></thead><tbody><tr><td>&quot;0#0&quot;</td><td>&quot;annie&quot;</td><td>&quot;johnson&quot;</td><td>&quot;warrenton&quot;</td><td>&quot;27589&quot;</td></tr><tr><td>&quot;0#1&quot;</td><td>&quot;erin&quot;</td><td>&quot;pugh&quot;</td><td>&quot;asheboro&quot;</td><td>&quot;27205&quot;</td></tr><tr><td>&quot;0#10&quot;</td><td>&quot;robert&quot;</td><td>&quot;wilson&quot;</td><td>&quot;raleigh&quot;</td><td>&quot;27612&quot;</td></tr><tr><td>&quot;0#100&quot;</td><td>&quot;mary&quot;</td><td>&quot;stanley&quot;</td><td>&quot;carthage&quot;</td><td>&quot;28327&quot;</td></tr><tr><td>&quot;0#1000&quot;</td><td>&quot;marcus&quot;</td><td>&quot;mckoy&quot;</td><td>&quot;oxford&quot;</td><td>&quot;27565&quot;</td></tr><tr><td>&quot;0#10000&quot;</td><td>&quot;lee&quot;</td><td>&quot;dennis&quot;</td><td>&quot;albemarle&quot;</td><td>&quot;28001&quot;</td></tr><tr><td>&quot;0#100000&quot;</td><td>&quot;jennifer&quot;</td><td>&quot;jones&quot;</td><td>&quot;pinnacle&quot;</td><td>&quot;27043&quot;</td></tr><tr><td>&quot;0#100001&quot;</td><td>&quot;robert&quot;</td><td>&quot;dunn&quot;</td><td>&quot;kinston&quot;</td><td>&quot;28504&quot;</td></tr><tr><td>&quot;0#100002&quot;</td><td>&quot;miriam&quot;</td><td>&quot;richards&quot;</td><td>&quot;charlotte&quot;</td><td>&quot;28278&quot;</td></tr><tr><td>&quot;0#100003&quot;</td><td>&quot;troy&quot;</td><td>&quot;dodson&quot;</td><td>&quot;four oaks&quot;</td><td>&quot;27524&quot;</td></tr></tbody></table></div>"
      ],
      "text/plain": [
       "shape: (10, 5)\n",
       "┌──────────┬────────────┬──────────┬───────────┬──────────┐\n",
       "│ _id      ┆ given_name ┆ surname  ┆ suburb    ┆ postcode │\n",
       "│ ---      ┆ ---        ┆ ---      ┆ ---       ┆ ---      │\n",
       "│ str      ┆ str        ┆ str      ┆ str       ┆ str      │\n",
       "╞══════════╪════════════╪══════════╪═══════════╪══════════╡\n",
       "│ 0#0      ┆ annie      ┆ johnson  ┆ warrenton ┆ 27589    │\n",
       "│ 0#1      ┆ erin       ┆ pugh     ┆ asheboro  ┆ 27205    │\n",
       "│ 0#10     ┆ robert     ┆ wilson   ┆ raleigh   ┆ 27612    │\n",
       "│ 0#100    ┆ mary       ┆ stanley  ┆ carthage  ┆ 28327    │\n",
       "│ …        ┆ …          ┆ …        ┆ …         ┆ …        │\n",
       "│ 0#100000 ┆ jennifer   ┆ jones    ┆ pinnacle  ┆ 27043    │\n",
       "│ 0#100001 ┆ robert     ┆ dunn     ┆ kinston   ┆ 28504    │\n",
       "│ 0#100002 ┆ miriam     ┆ richards ┆ charlotte ┆ 28278    │\n",
       "│ 0#100003 ┆ troy       ┆ dodson   ┆ four oaks ┆ 27524    │\n",
       "└──────────┴────────────┴──────────┴───────────┴──────────┘"
      ]
     },
     "execution_count": 10,
     "metadata": {},
     "output_type": "execute_result"
    }
   ],
   "source": [
    "clean_ds = pl.DataFrame(clean_records).sort(\"_id\")[[\"_id\", \"given_name\", \"surname\", \"suburb\", \"postcode\"]]\n",
    "print(len(clean_ds))\n",
    "clean_ds.head(10)"
   ]
  },
  {
   "cell_type": "code",
   "execution_count": 11,
   "metadata": {},
   "outputs": [
    {
     "data": {
      "text/html": [
       "<div><style>\n",
       ".dataframe > thead > tr > th,\n",
       ".dataframe > tbody > tr > td {\n",
       "  text-align: right;\n",
       "}\n",
       "</style>\n",
       "<small>shape: (10, 5)</small><table border=\"1\" class=\"dataframe\"><thead><tr><th>_id</th><th>given_name</th><th>surname</th><th>suburb</th><th>postcode</th></tr><tr><td>str</td><td>str</td><td>str</td><td>str</td><td>str</td></tr></thead><tbody><tr><td>&quot;0#0&quot;</td><td>&quot;annie&quot;</td><td>&quot;johnson&quot;</td><td>&quot;warrenton&quot;</td><td>&quot;27589&quot;</td></tr><tr><td>&quot;0#1&quot;</td><td>&quot;erin&quot;</td><td>&quot;pugh&quot;</td><td>&quot;asheboro&quot;</td><td>&quot;27205&quot;</td></tr><tr><td>&quot;0#2&quot;</td><td>&quot;lauren&quot;</td><td>&quot;toledo&quot;</td><td>&quot;chapel hill&quot;</td><td>&quot;27514&quot;</td></tr><tr><td>&quot;0#3&quot;</td><td>&quot;georgetta&quot;</td><td>&quot;atkinson&quot;</td><td>&quot;goldsboro&quot;</td><td>&quot;27530&quot;</td></tr><tr><td>&quot;0#4&quot;</td><td>&quot;lynn&quot;</td><td>&quot;kitchens&quot;</td><td>&quot;greensboro&quot;</td><td>&quot;27408&quot;</td></tr><tr><td>&quot;0#5&quot;</td><td>&quot;jacqueline&quot;</td><td>&quot;lacewell&quot;</td><td>&quot;riegelwood&quot;</td><td>&quot;28456&quot;</td></tr><tr><td>&quot;0#6&quot;</td><td>&quot;mary&quot;</td><td>&quot;martin&quot;</td><td>&quot;charlotte&quot;</td><td>&quot;28215&quot;</td></tr><tr><td>&quot;0#7&quot;</td><td>&quot;gerald&quot;</td><td>&quot;clontz&quot;</td><td>&quot;midland&quot;</td><td>&quot;28107&quot;</td></tr><tr><td>&quot;0#8&quot;</td><td>&quot;marie&quot;</td><td>&quot;roach&quot;</td><td>&quot;reidsville&quot;</td><td>&quot;27320&quot;</td></tr><tr><td>&quot;0#9&quot;</td><td>&quot;jennifer&quot;</td><td>&quot;hall&quot;</td><td>&quot;wilson&quot;</td><td>&quot;27896&quot;</td></tr></tbody></table></div>"
      ],
      "text/plain": [
       "shape: (10, 5)\n",
       "┌─────┬────────────┬──────────┬─────────────┬──────────┐\n",
       "│ _id ┆ given_name ┆ surname  ┆ suburb      ┆ postcode │\n",
       "│ --- ┆ ---        ┆ ---      ┆ ---         ┆ ---      │\n",
       "│ str ┆ str        ┆ str      ┆ str         ┆ str      │\n",
       "╞═════╪════════════╪══════════╪═════════════╪══════════╡\n",
       "│ 0#0 ┆ annie      ┆ johnson  ┆ warrenton   ┆ 27589    │\n",
       "│ 0#1 ┆ erin       ┆ pugh     ┆ asheboro    ┆ 27205    │\n",
       "│ 0#2 ┆ lauren     ┆ toledo   ┆ chapel hill ┆ 27514    │\n",
       "│ 0#3 ┆ georgetta  ┆ atkinson ┆ goldsboro   ┆ 27530    │\n",
       "│ …   ┆ …          ┆ …        ┆ …           ┆ …        │\n",
       "│ 0#6 ┆ mary       ┆ martin   ┆ charlotte   ┆ 28215    │\n",
       "│ 0#7 ┆ gerald     ┆ clontz   ┆ midland     ┆ 28107    │\n",
       "│ 0#8 ┆ marie      ┆ roach    ┆ reidsville  ┆ 27320    │\n",
       "│ 0#9 ┆ jennifer   ┆ hall     ┆ wilson      ┆ 27896    │\n",
       "└─────┴────────────┴──────────┴─────────────┴──────────┘"
      ]
     },
     "execution_count": 11,
     "metadata": {},
     "output_type": "execute_result"
    }
   ],
   "source": [
    "clean_ds = clean_ds.with_columns([\n",
    "    pl.col(\"_id\").str.split(\"#\").list.get(0).cast(pl.Int64).alias(\"_id_1\"),\n",
    "    pl.col(\"_id\").str.split(\"#\").list.get(1).cast(pl.Int64).alias(\"_id_2\")\n",
    "])\n",
    "clean_ds = clean_ds.sort([\"_id_1\", \"_id_2\"])\n",
    "clean_ds = clean_ds.drop([\"_id_1\", \"_id_2\"])\n",
    "clean_ds.head(10)"
   ]
  },
  {
   "cell_type": "code",
   "execution_count": 12,
   "metadata": {},
   "outputs": [],
   "source": [
    "clean_ds.write_csv(\"../dataset.csv\")"
   ]
  },
  {
   "cell_type": "code",
   "execution_count": null,
   "metadata": {},
   "outputs": [],
   "source": []
  }
 ],
 "metadata": {
  "kernelspec": {
   "display_name": "venv_radler_ultimate",
   "language": "python",
   "name": "python3"
  },
  "language_info": {
   "codemirror_mode": {
    "name": "ipython",
    "version": 3
   },
   "file_extension": ".py",
   "mimetype": "text/x-python",
   "name": "python",
   "nbconvert_exporter": "python",
   "pygments_lexer": "ipython3",
   "version": "3.7.6"
  }
 },
 "nbformat": 4,
 "nbformat_minor": 2
}
