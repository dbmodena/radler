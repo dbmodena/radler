{
 "cells": [
  {
   "cell_type": "code",
   "execution_count": 17,
   "metadata": {},
   "outputs": [],
   "source": [
    "import polars as pl\n",
    "import jellyfish as jf\n",
    "from collections import defaultdict\n",
    "from itertools import combinations"
   ]
  },
  {
   "cell_type": "code",
   "execution_count": 7,
   "metadata": {},
   "outputs": [],
   "source": [
    "def get_soundex_encoding(w):\n",
    "    if w is None or w == \"\":\n",
    "        return \"\"\n",
    "    return jf.soundex(w.replace(r'\\d+', ''))"
   ]
  },
  {
   "cell_type": "code",
   "execution_count": 8,
   "metadata": {},
   "outputs": [
    {
     "data": {
      "text/html": [
       "<div><style>\n",
       ".dataframe > thead > tr > th,\n",
       ".dataframe > tbody > tr > td {\n",
       "  text-align: right;\n",
       "}\n",
       "</style>\n",
       "<small>shape: (10, 5)</small><table border=\"1\" class=\"dataframe\"><thead><tr><th>_id</th><th>given_name</th><th>surname</th><th>suburb</th><th>postcode</th></tr><tr><td>str</td><td>str</td><td>str</td><td>str</td><td>str</td></tr></thead><tbody><tr><td>&quot;0#0&quot;</td><td>&quot;annie&quot;</td><td>&quot;johnson&quot;</td><td>&quot;warrenton&quot;</td><td>&quot;27589&quot;</td></tr><tr><td>&quot;0#1&quot;</td><td>&quot;erin&quot;</td><td>&quot;pugh&quot;</td><td>&quot;asheboro&quot;</td><td>&quot;27205&quot;</td></tr><tr><td>&quot;0#2&quot;</td><td>&quot;lauren&quot;</td><td>&quot;toledo&quot;</td><td>&quot;chapel hill&quot;</td><td>&quot;27514&quot;</td></tr><tr><td>&quot;0#3&quot;</td><td>&quot;georgetta&quot;</td><td>&quot;atkinson&quot;</td><td>&quot;goldsboro&quot;</td><td>&quot;27530&quot;</td></tr><tr><td>&quot;0#4&quot;</td><td>&quot;lynn&quot;</td><td>&quot;kitchens&quot;</td><td>&quot;greensboro&quot;</td><td>&quot;27408&quot;</td></tr><tr><td>&quot;0#5&quot;</td><td>&quot;jacqueline&quot;</td><td>&quot;lacewell&quot;</td><td>&quot;riegelwood&quot;</td><td>&quot;28456&quot;</td></tr><tr><td>&quot;0#6&quot;</td><td>&quot;mary&quot;</td><td>&quot;martin&quot;</td><td>&quot;charlotte&quot;</td><td>&quot;28215&quot;</td></tr><tr><td>&quot;0#7&quot;</td><td>&quot;gerald&quot;</td><td>&quot;clontz&quot;</td><td>&quot;midland&quot;</td><td>&quot;28107&quot;</td></tr><tr><td>&quot;0#8&quot;</td><td>&quot;marie&quot;</td><td>&quot;roach&quot;</td><td>&quot;reidsville&quot;</td><td>&quot;27320&quot;</td></tr><tr><td>&quot;0#9&quot;</td><td>&quot;jennifer&quot;</td><td>&quot;hall&quot;</td><td>&quot;wilson&quot;</td><td>&quot;27896&quot;</td></tr></tbody></table></div>"
      ],
      "text/plain": [
       "shape: (10, 5)\n",
       "┌─────┬────────────┬──────────┬─────────────┬──────────┐\n",
       "│ _id ┆ given_name ┆ surname  ┆ suburb      ┆ postcode │\n",
       "│ --- ┆ ---        ┆ ---      ┆ ---         ┆ ---      │\n",
       "│ str ┆ str        ┆ str      ┆ str         ┆ str      │\n",
       "╞═════╪════════════╪══════════╪═════════════╪══════════╡\n",
       "│ 0#0 ┆ annie      ┆ johnson  ┆ warrenton   ┆ 27589    │\n",
       "│ 0#1 ┆ erin       ┆ pugh     ┆ asheboro    ┆ 27205    │\n",
       "│ 0#2 ┆ lauren     ┆ toledo   ┆ chapel hill ┆ 27514    │\n",
       "│ 0#3 ┆ georgetta  ┆ atkinson ┆ goldsboro   ┆ 27530    │\n",
       "│ …   ┆ …          ┆ …        ┆ …           ┆ …        │\n",
       "│ 0#6 ┆ mary       ┆ martin   ┆ charlotte   ┆ 28215    │\n",
       "│ 0#7 ┆ gerald     ┆ clontz   ┆ midland     ┆ 28107    │\n",
       "│ 0#8 ┆ marie      ┆ roach    ┆ reidsville  ┆ 27320    │\n",
       "│ 0#9 ┆ jennifer   ┆ hall     ┆ wilson      ┆ 27896    │\n",
       "└─────┴────────────┴──────────┴─────────────┴──────────┘"
      ]
     },
     "execution_count": 8,
     "metadata": {},
     "output_type": "execute_result"
    }
   ],
   "source": [
    "ds = pl.read_csv(\"../dataset.csv\", infer_schema_length=1000000)\n",
    "ds.head(10)"
   ]
  },
  {
   "cell_type": "code",
   "execution_count": 9,
   "metadata": {},
   "outputs": [
    {
     "data": {
      "text/html": [
       "<div><style>\n",
       ".dataframe > thead > tr > th,\n",
       ".dataframe > tbody > tr > td {\n",
       "  text-align: right;\n",
       "}\n",
       "</style>\n",
       "<small>shape: (10, 8)</small><table border=\"1\" class=\"dataframe\"><thead><tr><th>_id</th><th>given_name</th><th>surname</th><th>suburb</th><th>postcode</th><th>given_name_soundex</th><th>surname_soundex</th><th>suburb_soundex</th></tr><tr><td>str</td><td>str</td><td>str</td><td>str</td><td>str</td><td>str</td><td>str</td><td>str</td></tr></thead><tbody><tr><td>&quot;0#0&quot;</td><td>&quot;annie&quot;</td><td>&quot;johnson&quot;</td><td>&quot;warrenton&quot;</td><td>&quot;27589&quot;</td><td>&quot;A500&quot;</td><td>&quot;J525&quot;</td><td>&quot;W653&quot;</td></tr><tr><td>&quot;0#1&quot;</td><td>&quot;erin&quot;</td><td>&quot;pugh&quot;</td><td>&quot;asheboro&quot;</td><td>&quot;27205&quot;</td><td>&quot;E650&quot;</td><td>&quot;P200&quot;</td><td>&quot;A216&quot;</td></tr><tr><td>&quot;0#2&quot;</td><td>&quot;lauren&quot;</td><td>&quot;toledo&quot;</td><td>&quot;chapel hill&quot;</td><td>&quot;27514&quot;</td><td>&quot;L650&quot;</td><td>&quot;T430&quot;</td><td>&quot;C144&quot;</td></tr><tr><td>&quot;0#3&quot;</td><td>&quot;georgetta&quot;</td><td>&quot;atkinson&quot;</td><td>&quot;goldsboro&quot;</td><td>&quot;27530&quot;</td><td>&quot;G623&quot;</td><td>&quot;A325&quot;</td><td>&quot;G432&quot;</td></tr><tr><td>&quot;0#4&quot;</td><td>&quot;lynn&quot;</td><td>&quot;kitchens&quot;</td><td>&quot;greensboro&quot;</td><td>&quot;27408&quot;</td><td>&quot;L500&quot;</td><td>&quot;K325&quot;</td><td>&quot;G652&quot;</td></tr><tr><td>&quot;0#5&quot;</td><td>&quot;jacqueline&quot;</td><td>&quot;lacewell&quot;</td><td>&quot;riegelwood&quot;</td><td>&quot;28456&quot;</td><td>&quot;J245&quot;</td><td>&quot;L240&quot;</td><td>&quot;R243&quot;</td></tr><tr><td>&quot;0#6&quot;</td><td>&quot;mary&quot;</td><td>&quot;martin&quot;</td><td>&quot;charlotte&quot;</td><td>&quot;28215&quot;</td><td>&quot;M600&quot;</td><td>&quot;M635&quot;</td><td>&quot;C643&quot;</td></tr><tr><td>&quot;0#7&quot;</td><td>&quot;gerald&quot;</td><td>&quot;clontz&quot;</td><td>&quot;midland&quot;</td><td>&quot;28107&quot;</td><td>&quot;G643&quot;</td><td>&quot;C453&quot;</td><td>&quot;M345&quot;</td></tr><tr><td>&quot;0#8&quot;</td><td>&quot;marie&quot;</td><td>&quot;roach&quot;</td><td>&quot;reidsville&quot;</td><td>&quot;27320&quot;</td><td>&quot;M600&quot;</td><td>&quot;R200&quot;</td><td>&quot;R321&quot;</td></tr><tr><td>&quot;0#9&quot;</td><td>&quot;jennifer&quot;</td><td>&quot;hall&quot;</td><td>&quot;wilson&quot;</td><td>&quot;27896&quot;</td><td>&quot;J516&quot;</td><td>&quot;H400&quot;</td><td>&quot;W425&quot;</td></tr></tbody></table></div>"
      ],
      "text/plain": [
       "shape: (10, 8)\n",
       "┌─────┬────────────┬──────────┬─────────────┬──────────┬────────────┬───────────────┬──────────────┐\n",
       "│ _id ┆ given_name ┆ surname  ┆ suburb      ┆ postcode ┆ given_name ┆ surname_sound ┆ suburb_sound │\n",
       "│ --- ┆ ---        ┆ ---      ┆ ---         ┆ ---      ┆ _soundex   ┆ ex            ┆ ex           │\n",
       "│ str ┆ str        ┆ str      ┆ str         ┆ str      ┆ ---        ┆ ---           ┆ ---          │\n",
       "│     ┆            ┆          ┆             ┆          ┆ str        ┆ str           ┆ str          │\n",
       "╞═════╪════════════╪══════════╪═════════════╪══════════╪════════════╪═══════════════╪══════════════╡\n",
       "│ 0#0 ┆ annie      ┆ johnson  ┆ warrenton   ┆ 27589    ┆ A500       ┆ J525          ┆ W653         │\n",
       "│ 0#1 ┆ erin       ┆ pugh     ┆ asheboro    ┆ 27205    ┆ E650       ┆ P200          ┆ A216         │\n",
       "│ 0#2 ┆ lauren     ┆ toledo   ┆ chapel hill ┆ 27514    ┆ L650       ┆ T430          ┆ C144         │\n",
       "│ 0#3 ┆ georgetta  ┆ atkinson ┆ goldsboro   ┆ 27530    ┆ G623       ┆ A325          ┆ G432         │\n",
       "│ …   ┆ …          ┆ …        ┆ …           ┆ …        ┆ …          ┆ …             ┆ …            │\n",
       "│ 0#6 ┆ mary       ┆ martin   ┆ charlotte   ┆ 28215    ┆ M600       ┆ M635          ┆ C643         │\n",
       "│ 0#7 ┆ gerald     ┆ clontz   ┆ midland     ┆ 28107    ┆ G643       ┆ C453          ┆ M345         │\n",
       "│ 0#8 ┆ marie      ┆ roach    ┆ reidsville  ┆ 27320    ┆ M600       ┆ R200          ┆ R321         │\n",
       "│ 0#9 ┆ jennifer   ┆ hall     ┆ wilson      ┆ 27896    ┆ J516       ┆ H400          ┆ W425         │\n",
       "└─────┴────────────┴──────────┴─────────────┴──────────┴────────────┴───────────────┴──────────────┘"
      ]
     },
     "execution_count": 9,
     "metadata": {},
     "output_type": "execute_result"
    }
   ],
   "source": [
    "ds = ds.with_columns(\n",
    "    pl.col(\"given_name\").apply(get_soundex_encoding).alias(\"given_name_soundex\"),\n",
    "    pl.col(\"surname\").apply(get_soundex_encoding).alias(\"surname_soundex\"),\n",
    "    pl.col(\"suburb\").apply(get_soundex_encoding).alias(\"suburb_soundex\")\n",
    ")\n",
    "ds.head(10)"
   ]
  },
  {
   "cell_type": "code",
   "execution_count": 11,
   "metadata": {},
   "outputs": [
    {
     "data": {
      "text/html": [
       "<div><style>\n",
       ".dataframe > thead > tr > th,\n",
       ".dataframe > tbody > tr > td {\n",
       "  text-align: right;\n",
       "}\n",
       "</style>\n",
       "<small>shape: (10, 9)</small><table border=\"1\" class=\"dataframe\"><thead><tr><th>_id</th><th>given_name</th><th>surname</th><th>suburb</th><th>postcode</th><th>given_name_soundex</th><th>surname_soundex</th><th>suburb_soundex</th><th>name_soundex</th></tr><tr><td>str</td><td>str</td><td>str</td><td>str</td><td>str</td><td>str</td><td>str</td><td>str</td><td>str</td></tr></thead><tbody><tr><td>&quot;0#0&quot;</td><td>&quot;annie&quot;</td><td>&quot;johnson&quot;</td><td>&quot;warrenton&quot;</td><td>&quot;27589&quot;</td><td>&quot;A500&quot;</td><td>&quot;J525&quot;</td><td>&quot;W653&quot;</td><td>&quot;A500J525W653&quot;</td></tr><tr><td>&quot;0#1&quot;</td><td>&quot;erin&quot;</td><td>&quot;pugh&quot;</td><td>&quot;asheboro&quot;</td><td>&quot;27205&quot;</td><td>&quot;E650&quot;</td><td>&quot;P200&quot;</td><td>&quot;A216&quot;</td><td>&quot;E650P200A216&quot;</td></tr><tr><td>&quot;0#2&quot;</td><td>&quot;lauren&quot;</td><td>&quot;toledo&quot;</td><td>&quot;chapel hill&quot;</td><td>&quot;27514&quot;</td><td>&quot;L650&quot;</td><td>&quot;T430&quot;</td><td>&quot;C144&quot;</td><td>&quot;L650T430C144&quot;</td></tr><tr><td>&quot;0#3&quot;</td><td>&quot;georgetta&quot;</td><td>&quot;atkinson&quot;</td><td>&quot;goldsboro&quot;</td><td>&quot;27530&quot;</td><td>&quot;G623&quot;</td><td>&quot;A325&quot;</td><td>&quot;G432&quot;</td><td>&quot;G623A325G432&quot;</td></tr><tr><td>&quot;0#4&quot;</td><td>&quot;lynn&quot;</td><td>&quot;kitchens&quot;</td><td>&quot;greensboro&quot;</td><td>&quot;27408&quot;</td><td>&quot;L500&quot;</td><td>&quot;K325&quot;</td><td>&quot;G652&quot;</td><td>&quot;L500K325G652&quot;</td></tr><tr><td>&quot;0#5&quot;</td><td>&quot;jacqueline&quot;</td><td>&quot;lacewell&quot;</td><td>&quot;riegelwood&quot;</td><td>&quot;28456&quot;</td><td>&quot;J245&quot;</td><td>&quot;L240&quot;</td><td>&quot;R243&quot;</td><td>&quot;J245L240R243&quot;</td></tr><tr><td>&quot;0#6&quot;</td><td>&quot;mary&quot;</td><td>&quot;martin&quot;</td><td>&quot;charlotte&quot;</td><td>&quot;28215&quot;</td><td>&quot;M600&quot;</td><td>&quot;M635&quot;</td><td>&quot;C643&quot;</td><td>&quot;M600M635C643&quot;</td></tr><tr><td>&quot;0#7&quot;</td><td>&quot;gerald&quot;</td><td>&quot;clontz&quot;</td><td>&quot;midland&quot;</td><td>&quot;28107&quot;</td><td>&quot;G643&quot;</td><td>&quot;C453&quot;</td><td>&quot;M345&quot;</td><td>&quot;G643C453M345&quot;</td></tr><tr><td>&quot;0#8&quot;</td><td>&quot;marie&quot;</td><td>&quot;roach&quot;</td><td>&quot;reidsville&quot;</td><td>&quot;27320&quot;</td><td>&quot;M600&quot;</td><td>&quot;R200&quot;</td><td>&quot;R321&quot;</td><td>&quot;M600R200R321&quot;</td></tr><tr><td>&quot;0#9&quot;</td><td>&quot;jennifer&quot;</td><td>&quot;hall&quot;</td><td>&quot;wilson&quot;</td><td>&quot;27896&quot;</td><td>&quot;J516&quot;</td><td>&quot;H400&quot;</td><td>&quot;W425&quot;</td><td>&quot;J516H400W425&quot;</td></tr></tbody></table></div>"
      ],
      "text/plain": [
       "shape: (10, 9)\n",
       "┌─────┬────────────┬──────────┬────────────┬───┬────────────┬────────────┬────────────┬────────────┐\n",
       "│ _id ┆ given_name ┆ surname  ┆ suburb     ┆ … ┆ given_name ┆ surname_so ┆ suburb_sou ┆ name_sound │\n",
       "│ --- ┆ ---        ┆ ---      ┆ ---        ┆   ┆ _soundex   ┆ undex      ┆ ndex       ┆ ex         │\n",
       "│ str ┆ str        ┆ str      ┆ str        ┆   ┆ ---        ┆ ---        ┆ ---        ┆ ---        │\n",
       "│     ┆            ┆          ┆            ┆   ┆ str        ┆ str        ┆ str        ┆ str        │\n",
       "╞═════╪════════════╪══════════╪════════════╪═══╪════════════╪════════════╪════════════╪════════════╡\n",
       "│ 0#0 ┆ annie      ┆ johnson  ┆ warrenton  ┆ … ┆ A500       ┆ J525       ┆ W653       ┆ A500J525W6 │\n",
       "│     ┆            ┆          ┆            ┆   ┆            ┆            ┆            ┆ 53         │\n",
       "│ 0#1 ┆ erin       ┆ pugh     ┆ asheboro   ┆ … ┆ E650       ┆ P200       ┆ A216       ┆ E650P200A2 │\n",
       "│     ┆            ┆          ┆            ┆   ┆            ┆            ┆            ┆ 16         │\n",
       "│ 0#2 ┆ lauren     ┆ toledo   ┆ chapel     ┆ … ┆ L650       ┆ T430       ┆ C144       ┆ L650T430C1 │\n",
       "│     ┆            ┆          ┆ hill       ┆   ┆            ┆            ┆            ┆ 44         │\n",
       "│ 0#3 ┆ georgetta  ┆ atkinson ┆ goldsboro  ┆ … ┆ G623       ┆ A325       ┆ G432       ┆ G623A325G4 │\n",
       "│     ┆            ┆          ┆            ┆   ┆            ┆            ┆            ┆ 32         │\n",
       "│ …   ┆ …          ┆ …        ┆ …          ┆ … ┆ …          ┆ …          ┆ …          ┆ …          │\n",
       "│ 0#6 ┆ mary       ┆ martin   ┆ charlotte  ┆ … ┆ M600       ┆ M635       ┆ C643       ┆ M600M635C6 │\n",
       "│     ┆            ┆          ┆            ┆   ┆            ┆            ┆            ┆ 43         │\n",
       "│ 0#7 ┆ gerald     ┆ clontz   ┆ midland    ┆ … ┆ G643       ┆ C453       ┆ M345       ┆ G643C453M3 │\n",
       "│     ┆            ┆          ┆            ┆   ┆            ┆            ┆            ┆ 45         │\n",
       "│ 0#8 ┆ marie      ┆ roach    ┆ reidsville ┆ … ┆ M600       ┆ R200       ┆ R321       ┆ M600R200R3 │\n",
       "│     ┆            ┆          ┆            ┆   ┆            ┆            ┆            ┆ 21         │\n",
       "│ 0#9 ┆ jennifer   ┆ hall     ┆ wilson     ┆ … ┆ J516       ┆ H400       ┆ W425       ┆ J516H400W4 │\n",
       "│     ┆            ┆          ┆            ┆   ┆            ┆            ┆            ┆ 25         │\n",
       "└─────┴────────────┴──────────┴────────────┴───┴────────────┴────────────┴────────────┴────────────┘"
      ]
     },
     "execution_count": 11,
     "metadata": {},
     "output_type": "execute_result"
    }
   ],
   "source": [
    "ds = ds.with_columns((ds[\"given_name_soundex\"] + ds[\"surname_soundex\"] + ds[\"suburb_soundex\"] ).alias(\"name_soundex\"))\n",
    "ds.head(10)"
   ]
  },
  {
   "cell_type": "code",
   "execution_count": 12,
   "metadata": {},
   "outputs": [
    {
     "name": "stdout",
     "output_type": "stream",
     "text": [
      "10000000\n"
     ]
    },
    {
     "data": {
      "text/plain": [
       "('0#0', 'A500J525W653')"
      ]
     },
     "execution_count": 12,
     "metadata": {},
     "output_type": "execute_result"
    }
   ],
   "source": [
    "records = ds.select([\"_id\", \"name_soundex\"]).rows()\n",
    "print(len(records))\n",
    "records[0]"
   ]
  },
  {
   "cell_type": "code",
   "execution_count": 15,
   "metadata": {},
   "outputs": [
    {
     "data": {
      "text/plain": [
       "4995075"
      ]
     },
     "execution_count": 15,
     "metadata": {},
     "output_type": "execute_result"
    }
   ],
   "source": [
    "grouped_dict = defaultdict(list)\n",
    "for _id, name_soundex in records:\n",
    "    grouped_dict[name_soundex].append(_id)\n",
    "grouped_dict = dict(grouped_dict)\n",
    "len(grouped_dict)"
   ]
  },
  {
   "cell_type": "code",
   "execution_count": 16,
   "metadata": {},
   "outputs": [
    {
     "data": {
      "text/plain": [
       "4995075"
      ]
     },
     "execution_count": 16,
     "metadata": {},
     "output_type": "execute_result"
    }
   ],
   "source": [
    "clusters = list(grouped_dict.values())\n",
    "len(clusters)"
   ]
  },
  {
   "cell_type": "code",
   "execution_count": 18,
   "metadata": {},
   "outputs": [
    {
     "data": {
      "text/plain": [
       "4995075"
      ]
     },
     "execution_count": 18,
     "metadata": {},
     "output_type": "execute_result"
    }
   ],
   "source": [
    "record_pairs = [list(combinations(c, 2)) if len(c) > 1 else [] for c in clusters]\n",
    "len(record_pairs)"
   ]
  },
  {
   "cell_type": "code",
   "execution_count": 19,
   "metadata": {},
   "outputs": [
    {
     "data": {
      "text/plain": [
       "26977252"
      ]
     },
     "execution_count": 19,
     "metadata": {},
     "output_type": "execute_result"
    }
   ],
   "source": [
    "candidates = {p if p[0] <= p[1] else (p[1], p[0]) for c in record_pairs for p in c if p[0][0] != p[1][0]}\n",
    "len(candidates)"
   ]
  },
  {
   "cell_type": "code",
   "execution_count": 21,
   "metadata": {},
   "outputs": [
    {
     "data": {
      "text/plain": [
       "14995973"
      ]
     },
     "execution_count": 21,
     "metadata": {},
     "output_type": "execute_result"
    }
   ],
   "source": [
    "matches = pl.read_csv(\"../matches.csv\")\n",
    "match_tuples = [tuple(row) for row in matches.to_numpy()]\n",
    "match_set = {t if t[0] < t[1] else (t[1], t[0]) for t in match_tuples}\n",
    "len(match_set)"
   ]
  },
  {
   "cell_type": "code",
   "execution_count": 22,
   "metadata": {},
   "outputs": [
    {
     "data": {
      "text/plain": [
       "14995973"
      ]
     },
     "execution_count": 22,
     "metadata": {},
     "output_type": "execute_result"
    }
   ],
   "source": [
    "found = candidates.intersection(match_set)\n",
    "tp = len(found)\n",
    "tp"
   ]
  },
  {
   "cell_type": "code",
   "execution_count": 23,
   "metadata": {},
   "outputs": [
    {
     "data": {
      "text/plain": [
       "0"
      ]
     },
     "execution_count": 23,
     "metadata": {},
     "output_type": "execute_result"
    }
   ],
   "source": [
    "not_found = match_set.difference(candidates)\n",
    "fn = len(not_found)\n",
    "fn"
   ]
  },
  {
   "cell_type": "code",
   "execution_count": 24,
   "metadata": {},
   "outputs": [
    {
     "data": {
      "text/plain": [
       "1.0"
      ]
     },
     "execution_count": 24,
     "metadata": {},
     "output_type": "execute_result"
    }
   ],
   "source": [
    "recall = tp / len(match_set)\n",
    "recall"
   ]
  },
  {
   "cell_type": "code",
   "execution_count": 25,
   "metadata": {},
   "outputs": [
    {
     "data": {
      "text/html": [
       "<div><style>\n",
       ".dataframe > thead > tr > th,\n",
       ".dataframe > tbody > tr > td {\n",
       "  text-align: right;\n",
       "}\n",
       "</style>\n",
       "<small>shape: (10, 2)</small><table border=\"1\" class=\"dataframe\"><thead><tr><th>l_id</th><th>r_id</th></tr><tr><td>str</td><td>str</td></tr></thead><tbody><tr><td>&quot;5#58321&quot;</td><td>&quot;9#747623&quot;</td></tr><tr><td>&quot;5#386059&quot;</td><td>&quot;9#941570&quot;</td></tr><tr><td>&quot;2#353659&quot;</td><td>&quot;4#161705&quot;</td></tr><tr><td>&quot;3#430671&quot;</td><td>&quot;9#430195&quot;</td></tr><tr><td>&quot;3#59672&quot;</td><td>&quot;6#232391&quot;</td></tr><tr><td>&quot;1#964027&quot;</td><td>&quot;3#126407&quot;</td></tr><tr><td>&quot;0#214429&quot;</td><td>&quot;4#557650&quot;</td></tr><tr><td>&quot;2#223462&quot;</td><td>&quot;8#69191&quot;</td></tr><tr><td>&quot;7#289547&quot;</td><td>&quot;9#114177&quot;</td></tr><tr><td>&quot;2#725324&quot;</td><td>&quot;3#796902&quot;</td></tr></tbody></table></div>"
      ],
      "text/plain": [
       "shape: (10, 2)\n",
       "┌──────────┬──────────┐\n",
       "│ l_id     ┆ r_id     │\n",
       "│ ---      ┆ ---      │\n",
       "│ str      ┆ str      │\n",
       "╞══════════╪══════════╡\n",
       "│ 5#58321  ┆ 9#747623 │\n",
       "│ 5#386059 ┆ 9#941570 │\n",
       "│ 2#353659 ┆ 4#161705 │\n",
       "│ 3#430671 ┆ 9#430195 │\n",
       "│ …        ┆ …        │\n",
       "│ 0#214429 ┆ 4#557650 │\n",
       "│ 2#223462 ┆ 8#69191  │\n",
       "│ 7#289547 ┆ 9#114177 │\n",
       "│ 2#725324 ┆ 3#796902 │\n",
       "└──────────┴──────────┘"
      ]
     },
     "execution_count": 25,
     "metadata": {},
     "output_type": "execute_result"
    }
   ],
   "source": [
    "cand_df = pl.DataFrame(list(candidates), schema=[\"l_id\", \"r_id\"])\n",
    "cand_df.head(10)"
   ]
  },
  {
   "cell_type": "code",
   "execution_count": 26,
   "metadata": {},
   "outputs": [],
   "source": [
    "cand_df.write_csv(\"../blockers/candidates_soundex.csv\")"
   ]
  },
  {
   "cell_type": "code",
   "execution_count": null,
   "metadata": {},
   "outputs": [],
   "source": []
  }
 ],
 "metadata": {
  "kernelspec": {
   "display_name": "venv_radler_ultimate",
   "language": "python",
   "name": "python3"
  },
  "language_info": {
   "codemirror_mode": {
    "name": "ipython",
    "version": 3
   },
   "file_extension": ".py",
   "mimetype": "text/x-python",
   "name": "python",
   "nbconvert_exporter": "python",
   "pygments_lexer": "ipython3",
   "version": "3.7.6"
  }
 },
 "nbformat": 4,
 "nbformat_minor": 2
}
